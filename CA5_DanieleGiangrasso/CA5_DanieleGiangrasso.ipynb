{
 "cells": [
  {
   "cell_type": "markdown",
   "metadata": {
    "slideshow": {
     "slide_type": "notes"
    }
   },
   "source": [
    "# The Dataset, the source and the details\n",
    "\n",
    "Database: Placement_Data_Full_Class.csv\n",
    "\n",
    "Source Database: Kaggle\n",
    "\n",
    "Link: https://www.kaggle.com/benroshan/factors-affecting-campus-placement\n",
    "\n",
    "My notebook in kaggle: https://www.kaggle.com/danielegiangrasso/a-short-data-analysis-with-glm-regression?scriptVersionId=34712705\n",
    "\n",
    "Columns:\n",
    "    \n",
    "    •\tsl_no = Serial Number\n",
    "    •\tgender = Gender: Male='M', Female='F'\n",
    "    •\tssc_p = Secondary Education percentage- 10th Grade\n",
    "    •\tssc_b = Board of Education- Central/ Others\n",
    "    •\thsc_p = Higher Secondary Education percentage- 12th Grade\n",
    "    •\thsc_b = Board of Education- Central/ Others\n",
    "    •\thsc_s = Specialization in Higher Secondary Education\n",
    "    •\tdegree_p = Degree Percentage\n",
    "    •\tdegree_t = Under Graduation(Degree type)- Field of degree education\n",
    "    •\tworkex = Work Experience\n",
    "    •\tetest_p = Employability test percentage ( conducted by college)\n",
    "    •\tspecialisation = Post Graduation(MBA)- Specialization\n",
    "    •\tmba_p = MBA percentage\n",
    "    •\tstatus = Status of placement- Placed/Not placed\n",
    "    •\tsalary = Salary offered by corporate to candidates\n",
    "    \n",
    "The below link is to better understand the meaning of thf Board education in India:\n",
    "https://www.jagranjosh.com/articles/different-school-boards-in-india-1525780883-1\n",
    "\n",
    "Briefly, the most common board in India is the Central Board whose general goal is: \"always works with a vision to provide stress-free education to its students by adapting innovative teaching methods infused with psychological and instructive principles\".\n",
    "Other boards have different goals and adopt different methods of teaching (have a look at the above link if you want to find out more).\n"
   ]
  },
  {
   "cell_type": "markdown",
   "metadata": {},
   "source": [
    "The final purpose of the analysis is to apply the logistic regression and see how the different variables can help to make the prediction on the status variable. First of all we need to know more about the data that we have for our analysis. \n",
    "We set the directory, read the csv to load the dataset and analyse the structure of the dataset:"
   ]
  },
  {
   "cell_type": "code",
   "execution_count": 1,
   "metadata": {},
   "outputs": [
    {
     "name": "stderr",
     "output_type": "stream",
     "text": [
      "dummies-1.5.6 provided by Decision Patterns\n",
      "\n",
      "corrplot 0.84 loaded\n"
     ]
    }
   ],
   "source": [
    "#install.packages('dummies')\n",
    "#install.packages('corrplot')\n",
    "#install.packages(\"tidyverse\")\n",
    "#install.packages(\"funModeling\")\n",
    "#install.packages(\"Hmisc\", dependencies = TRUE)\n",
    "options(warn=-1)\n",
    "suppressMessages(library(funModeling))\n",
    "suppressMessages(library(tidyverse))\n",
    "suppressMessages(library(Hmisc))\n",
    "library('funModeling') \n",
    "library('tidyverse')\n",
    "library('Hmisc')\n",
    "library('dummies')\n",
    "library('ROCR')\n",
    "library('corrplot')"
   ]
  },
  {
   "cell_type": "code",
   "execution_count": 2,
   "metadata": {},
   "outputs": [
    {
     "name": "stdout",
     "output_type": "stream",
     "text": [
      "'data.frame':\t215 obs. of  15 variables:\n",
      " $ sl_no         : int  1 2 3 4 5 6 7 8 9 10 ...\n",
      " $ gender        : Factor w/ 2 levels \"F\",\"M\": 2 2 2 2 2 2 1 2 2 2 ...\n",
      " $ ssc_p         : num  67 79.3 65 56 85.8 ...\n",
      " $ ssc_b         : Factor w/ 2 levels \"Central\",\"Others\": 2 1 1 1 1 2 2 1 1 1 ...\n",
      " $ hsc_p         : num  91 78.3 68 52 73.6 ...\n",
      " $ hsc_b         : Factor w/ 2 levels \"Central\",\"Others\": 2 2 1 1 1 2 2 1 1 1 ...\n",
      " $ hsc_s         : Factor w/ 3 levels \"Arts\",\"Commerce\",..: 2 3 1 3 2 3 2 3 2 2 ...\n",
      " $ degree_p      : num  58 77.5 64 52 73.3 ...\n",
      " $ degree_t      : Factor w/ 3 levels \"Comm&Mgmt\",\"Others\",..: 3 3 1 3 1 3 1 3 1 1 ...\n",
      " $ workex        : Factor w/ 2 levels \"No\",\"Yes\": 1 2 1 1 1 2 1 2 1 1 ...\n",
      " $ etest_p       : num  55 86.5 75 66 96.8 ...\n",
      " $ specialisation: Factor w/ 2 levels \"Mkt&Fin\",\"Mkt&HR\": 2 1 1 2 1 1 1 1 1 1 ...\n",
      " $ mba_p         : num  58.8 66.3 57.8 59.4 55.5 ...\n",
      " $ status        : Factor w/ 2 levels \"Not Placed\",\"Placed\": 2 2 2 1 2 1 1 2 2 1 ...\n",
      " $ salary        : int  270000 200000 250000 NA 425000 NA NA 252000 231000 NA ...\n"
     ]
    },
    {
     "data": {
      "text/html": [
       "<dl class=dl-horizontal>\n",
       "\t<dt>gender</dt>\n",
       "\t\t<dd>0</dd>\n",
       "\t<dt>ssc_p</dt>\n",
       "\t\t<dd>0</dd>\n",
       "\t<dt>ssc_b</dt>\n",
       "\t\t<dd>0</dd>\n",
       "\t<dt>hsc_p</dt>\n",
       "\t\t<dd>0</dd>\n",
       "\t<dt>hsc_b</dt>\n",
       "\t\t<dd>0</dd>\n",
       "\t<dt>hsc_s</dt>\n",
       "\t\t<dd>0</dd>\n",
       "\t<dt>degree_p</dt>\n",
       "\t\t<dd>0</dd>\n",
       "\t<dt>degree_t</dt>\n",
       "\t\t<dd>0</dd>\n",
       "\t<dt>workex</dt>\n",
       "\t\t<dd>0</dd>\n",
       "\t<dt>etest_p</dt>\n",
       "\t\t<dd>0</dd>\n",
       "\t<dt>specialisation</dt>\n",
       "\t\t<dd>0</dd>\n",
       "\t<dt>mba_p</dt>\n",
       "\t\t<dd>0</dd>\n",
       "\t<dt>status</dt>\n",
       "\t\t<dd>0</dd>\n",
       "\t<dt>salary</dt>\n",
       "\t\t<dd>67</dd>\n",
       "</dl>\n"
      ],
      "text/latex": [
       "\\begin{description*}\n",
       "\\item[gender] 0\n",
       "\\item[ssc\\textbackslash{}\\_p] 0\n",
       "\\item[ssc\\textbackslash{}\\_b] 0\n",
       "\\item[hsc\\textbackslash{}\\_p] 0\n",
       "\\item[hsc\\textbackslash{}\\_b] 0\n",
       "\\item[hsc\\textbackslash{}\\_s] 0\n",
       "\\item[degree\\textbackslash{}\\_p] 0\n",
       "\\item[degree\\textbackslash{}\\_t] 0\n",
       "\\item[workex] 0\n",
       "\\item[etest\\textbackslash{}\\_p] 0\n",
       "\\item[specialisation] 0\n",
       "\\item[mba\\textbackslash{}\\_p] 0\n",
       "\\item[status] 0\n",
       "\\item[salary] 67\n",
       "\\end{description*}\n"
      ],
      "text/markdown": [
       "gender\n",
       ":   0ssc_p\n",
       ":   0ssc_b\n",
       ":   0hsc_p\n",
       ":   0hsc_b\n",
       ":   0hsc_s\n",
       ":   0degree_p\n",
       ":   0degree_t\n",
       ":   0workex\n",
       ":   0etest_p\n",
       ":   0specialisation\n",
       ":   0mba_p\n",
       ":   0status\n",
       ":   0salary\n",
       ":   67\n",
       "\n"
      ],
      "text/plain": [
       "        gender          ssc_p          ssc_b          hsc_p          hsc_b \n",
       "             0              0              0              0              0 \n",
       "         hsc_s       degree_p       degree_t         workex        etest_p \n",
       "             0              0              0              0              0 \n",
       "specialisation          mba_p         status         salary \n",
       "             0              0              0             67 "
      ]
     },
     "metadata": {},
     "output_type": "display_data"
    },
    {
     "data": {
      "text/html": [
       "<dl class=dl-horizontal>\n",
       "\t<dt>gender</dt>\n",
       "\t\t<dd>2</dd>\n",
       "\t<dt>ssc_p</dt>\n",
       "\t\t<dd>103</dd>\n",
       "\t<dt>ssc_b</dt>\n",
       "\t\t<dd>2</dd>\n",
       "\t<dt>hsc_p</dt>\n",
       "\t\t<dd>97</dd>\n",
       "\t<dt>hsc_b</dt>\n",
       "\t\t<dd>2</dd>\n",
       "\t<dt>hsc_s</dt>\n",
       "\t\t<dd>3</dd>\n",
       "\t<dt>degree_p</dt>\n",
       "\t\t<dd>89</dd>\n",
       "\t<dt>degree_t</dt>\n",
       "\t\t<dd>3</dd>\n",
       "\t<dt>workex</dt>\n",
       "\t\t<dd>2</dd>\n",
       "\t<dt>etest_p</dt>\n",
       "\t\t<dd>100</dd>\n",
       "\t<dt>specialisation</dt>\n",
       "\t\t<dd>2</dd>\n",
       "\t<dt>mba_p</dt>\n",
       "\t\t<dd>205</dd>\n",
       "\t<dt>status</dt>\n",
       "\t\t<dd>2</dd>\n",
       "\t<dt>salary</dt>\n",
       "\t\t<dd>46</dd>\n",
       "</dl>\n"
      ],
      "text/latex": [
       "\\begin{description*}\n",
       "\\item[gender] 2\n",
       "\\item[ssc\\textbackslash{}\\_p] 103\n",
       "\\item[ssc\\textbackslash{}\\_b] 2\n",
       "\\item[hsc\\textbackslash{}\\_p] 97\n",
       "\\item[hsc\\textbackslash{}\\_b] 2\n",
       "\\item[hsc\\textbackslash{}\\_s] 3\n",
       "\\item[degree\\textbackslash{}\\_p] 89\n",
       "\\item[degree\\textbackslash{}\\_t] 3\n",
       "\\item[workex] 2\n",
       "\\item[etest\\textbackslash{}\\_p] 100\n",
       "\\item[specialisation] 2\n",
       "\\item[mba\\textbackslash{}\\_p] 205\n",
       "\\item[status] 2\n",
       "\\item[salary] 46\n",
       "\\end{description*}\n"
      ],
      "text/markdown": [
       "gender\n",
       ":   2ssc_p\n",
       ":   103ssc_b\n",
       ":   2hsc_p\n",
       ":   97hsc_b\n",
       ":   2hsc_s\n",
       ":   3degree_p\n",
       ":   89degree_t\n",
       ":   3workex\n",
       ":   2etest_p\n",
       ":   100specialisation\n",
       ":   2mba_p\n",
       ":   205status\n",
       ":   2salary\n",
       ":   46\n",
       "\n"
      ],
      "text/plain": [
       "        gender          ssc_p          ssc_b          hsc_p          hsc_b \n",
       "             2            103              2             97              2 \n",
       "         hsc_s       degree_p       degree_t         workex        etest_p \n",
       "             3             89              3              2            100 \n",
       "specialisation          mba_p         status         salary \n",
       "             2            205              2             46 "
      ]
     },
     "metadata": {},
     "output_type": "display_data"
    }
   ],
   "source": [
    "setwd('C:/Users/39333/Desktop')\n",
    "dataframe <- read.csv(file = 'Placement_Data_Full_Class.csv', header = T, na.strings = c(\"\"))\n",
    "### A Quick look at the database\n",
    "str(dataframe)\n",
    "df <- dataframe[ -c(1)]\n",
    "df[df==\"\"] <- NA\n",
    "sapply(df,function(x) sum(is.na(x)))\n",
    "sapply(df, function(x) length(unique(x)))"
   ]
  },
  {
   "cell_type": "markdown",
   "metadata": {},
   "source": [
    "We can note that our dataset is composed by 15 variables and contains 215 observations that relate to different people.  There are 8 categorical variables and 7 numerical ones. The dataset has a binary response (outcome, dependent) variable called status and it varies berween 2 values: Placed, Not Placed. There are 14 potential predictors that we could use to evaluate if they are or not a significant and how they will affect the y variable. \n",
    "\n",
    "Having a first look at the variable, we can drop the variable \"sl_no\" because it is just a serial number that does not add any value to our analysis. To analyse our dataset we can also have a better look at it in terms of how many NA (missing values) and unique values there are in the dataset. This will allow us to understand if there are columns with a large number of NA and how many different values we can expect in each column. This first step helps to define if there are variables with too high a number of missing values and consecuently drops them from the dataset. Only the salary variable seems to have a missing value, but we will keep this in mind and drop it when it is time."
   ]
  },
  {
   "cell_type": "markdown",
   "metadata": {},
   "source": [
    "# 2 A quick look at the variables."
   ]
  },
  {
   "cell_type": "markdown",
   "metadata": {},
   "source": [
    "Above I have just turned off the warning message to keep the page clean"
   ]
  },
  {
   "cell_type": "code",
   "execution_count": 3,
   "metadata": {},
   "outputs": [
    {
     "data": {
      "text/plain": [
       "     ssc_p           hsc_p          degree_p        etest_p         mba_p      \n",
       " Min.   :40.89   Min.   :37.00   Min.   :50.00   Min.   :50.0   Min.   :51.21  \n",
       " 1st Qu.:60.60   1st Qu.:60.90   1st Qu.:61.00   1st Qu.:60.0   1st Qu.:57.95  \n",
       " Median :67.00   Median :65.00   Median :66.00   Median :71.0   Median :62.00  \n",
       " Mean   :67.30   Mean   :66.33   Mean   :66.37   Mean   :72.1   Mean   :62.28  \n",
       " 3rd Qu.:75.70   3rd Qu.:73.00   3rd Qu.:72.00   3rd Qu.:83.5   3rd Qu.:66.25  \n",
       " Max.   :89.40   Max.   :97.70   Max.   :91.00   Max.   :98.0   Max.   :77.89  \n",
       "                                                                               \n",
       "     salary      \n",
       " Min.   :200000  \n",
       " 1st Qu.:240000  \n",
       " Median :265000  \n",
       " Mean   :288655  \n",
       " 3rd Qu.:300000  \n",
       " Max.   :940000  \n",
       " NA's   :67      "
      ]
     },
     "metadata": {},
     "output_type": "display_data"
    },
    {
     "data": {
      "image/png": "[encoded data removed]",
      "text/plain": [
       "plot without title"
      ]
     },
     "metadata": {},
     "output_type": "display_data"
    }
   ],
   "source": [
    "#Analising Numerical\n",
    "\n",
    "numerical =df %>% select(ssc_p, hsc_p, degree_p, etest_p, mba_p, salary)\n",
    "\n",
    "basic_eda <- function(numerical)\n",
    "\n",
    " {  plot_num(numerical)\n",
    "  summary(numerical)\n",
    "}\n",
    "\n",
    "basic_eda(numerical)\n",
    "#count(names(numerical))"
   ]
  },
  {
   "cell_type": "markdown",
   "metadata": {},
   "source": [
    "From the above, we can see the distributions of the numerical varibles. We can see that the frequency for the four education variables (Secondary Education, Higher Secondary, Degree and MBA) tend to be higher for the central values. In all of them, both smaller and higher percentages are less frequent. You can also note that the empoyability test has a more uniform frequency, while salary shows higher frequency for lower values."
   ]
  },
  {
   "cell_type": "code",
   "execution_count": 4,
   "metadata": {
    "scrolled": false
   },
   "outputs": [
    {
     "name": "stdout",
     "output_type": "stream",
     "text": [
      "  gender frequency percentage cumulative_perc\n",
      "1      M       139      64.65           64.65\n",
      "2      F        76      35.35          100.00\n",
      "\n",
      "    ssc_b frequency percentage cumulative_perc\n",
      "1 Central       116      53.95           53.95\n",
      "2  Others        99      46.05          100.00\n",
      "\n",
      "    hsc_b frequency percentage cumulative_perc\n",
      "1  Others       131      60.93           60.93\n",
      "2 Central        84      39.07          100.00\n",
      "\n",
      "     hsc_s frequency percentage cumulative_perc\n",
      "1 Commerce       113      52.56           52.56\n",
      "2  Science        91      42.33           94.89\n",
      "3     Arts        11       5.12          100.00\n",
      "\n",
      "   degree_t frequency percentage cumulative_perc\n",
      "1 Comm&Mgmt       145      67.44           67.44\n",
      "2  Sci&Tech        59      27.44           94.88\n",
      "3    Others        11       5.12          100.00\n",
      "\n",
      "  workex frequency percentage cumulative_perc\n",
      "1     No       141      65.58           65.58\n",
      "2    Yes        74      34.42          100.00\n",
      "\n",
      "  specialisation frequency percentage cumulative_perc\n",
      "1        Mkt&Fin       120      55.81           55.81\n",
      "2         Mkt&HR        95      44.19          100.00\n",
      "\n",
      "      status frequency percentage cumulative_perc\n",
      "1     Placed       148      68.84           68.84\n",
      "2 Not Placed        67      31.16          100.00\n",
      "\n"
     ]
    },
    {
     "data": {
      "text/html": [
       "'Variables processed: gender, ssc_b, hsc_b, hsc_s, degree_t, workex, specialisation, status'"
      ],
      "text/latex": [
       "'Variables processed: gender, ssc\\_b, hsc\\_b, hsc\\_s, degree\\_t, workex, specialisation, status'"
      ],
      "text/markdown": [
       "'Variables processed: gender, ssc_b, hsc_b, hsc_s, degree_t, workex, specialisation, status'"
      ],
      "text/plain": [
       "[1] \"Variables processed: gender, ssc_b, hsc_b, hsc_s, degree_t, workex, specialisation, status\""
      ]
     },
     "metadata": {},
     "output_type": "display_data"
    }
   ],
   "source": [
    "categorical =df %>% select(gender, ssc_b, hsc_b, hsc_s, degree_t, workex,specialisation, status)\n",
    "\n",
    "#to run separately below lines (37 to 44, need to be run separately )\n",
    "\n",
    "freq(data=categorical, input = c('gender','ssc_b','hsc_b', 'hsc_s', 'degree_t', 'workex'\n",
    "                                 , 'specialisation', 'status'), plot = FALSE )"
   ]
  },
  {
   "cell_type": "markdown",
   "metadata": {},
   "source": [
    "Some insight on the categorical variables: From the above tables we can see that the percentage of males is higher, most of the secondary schools and higher secondary schools were part of the board. Commerce is the prevalent specialisation in High School, while Commerce & Marketing is the prevalent course as degree. Most people had work experience and the main MBA specialisation was Marketing and Finance. 68.84% of the sample is employed."
   ]
  },
  {
   "cell_type": "code",
   "execution_count": 5,
   "metadata": {},
   "outputs": [
    {
     "name": "stdout",
     "output_type": "stream",
     "text": [
      "[1] \"ssc_p\"    \"hsc_p\"    \"degree_p\" \"etest_p\"  \"mba_p\"   \n"
     ]
    }
   ],
   "source": [
    "df.new = subset(df, select = c(2,4,7,10,12))\n",
    "print(names(df.new))"
   ]
  },
  {
   "cell_type": "markdown",
   "metadata": {},
   "source": [
    "In the above, I create a new dataset for my anlysis and I dropped the salary because is not very useful in predicting the placement of a student. Indeed this variable has a value only if the student is placed."
   ]
  },
  {
   "cell_type": "code",
   "execution_count": 6,
   "metadata": {},
   "outputs": [
    {
     "name": "stdout",
     "output_type": "stream",
     "text": [
      " [1] \"ssc_p\"          \"hsc_p\"          \"degree_p\"       \"etest_p\"       \n",
      " [5] \"mba_p\"          \"gender\"         \"ssc_b\"          \"hsc_b\"         \n",
      " [9] \"hsc_s\"          \"degree_t\"       \"workex\"         \"specialisation\"\n",
      "[13] \"status\"        \n"
     ]
    }
   ],
   "source": [
    "\n",
    "df.cor = df.new\n",
    "df.cor$gender = dummy(df$gender)\n",
    "df.cor$ssc_b = dummy(df$ssc_b)\n",
    "df.cor$hsc_b = dummy(df$hsc_b)\n",
    "df.cor$hsc_s = dummy(df$hsc_s)\n",
    "df.cor$degree_t = dummy(df$degree_t)\n",
    "df.cor$workex = dummy(df$workex)\n",
    "df.cor$specialisation = dummy(df$specialisation)\n",
    "df.cor$status = dummy(df$status)\n",
    "print(names(df.cor))\n"
   ]
  },
  {
   "cell_type": "markdown",
   "metadata": {},
   "source": [
    "I have created dummy varibles because there are many categorical variables that do not permit me to plot a correletion matrix."
   ]
  },
  {
   "cell_type": "code",
   "execution_count": 7,
   "metadata": {},
   "outputs": [
    {
     "data": {
      "image/png": "[encoded data removed]",
      "text/plain": [
       "Plot with title \"\""
      ]
     },
     "metadata": {},
     "output_type": "display_data"
    }
   ],
   "source": [
    "df.cor.plot <- cor(df.cor)\n",
    "corrplot(df.cor.plot,method = c(\"square\") , type = \"lower\", graphType=\"heatmap\")"
   ]
  },
  {
   "cell_type": "markdown",
   "metadata": {},
   "source": [
    "From the correlation matrix we can see a correlation in the study paths and also in being part of a board of education structure between secondary and high secondary school. There appears to be a strong correlation between status and the grades across different levels of education: a positive correlation with placed and negative with not placed."
   ]
  },
  {
   "cell_type": "code",
   "execution_count": 8,
   "metadata": {
    "scrolled": false
   },
   "outputs": [
    {
     "name": "stdout",
     "output_type": "stream",
     "text": [
      "'data.frame':\t215 obs. of  13 variables:\n",
      " $ ssc_p         : num  67 79.3 65 56 85.8 ...\n",
      " $ hsc_p         : num  91 78.3 68 52 73.6 ...\n",
      " $ degree_p      : num  58 77.5 64 52 73.3 ...\n",
      " $ etest_p       : num  55 86.5 75 66 96.8 ...\n",
      " $ mba_p         : num  58.8 66.3 57.8 59.4 55.5 ...\n",
      " $ gender        : Factor w/ 2 levels \"F\",\"M\": 2 2 2 2 2 2 1 2 2 2 ...\n",
      " $ ssc_b         : Factor w/ 2 levels \"Central\",\"Others\": 2 1 1 1 1 2 2 1 1 1 ...\n",
      " $ hsc_b         : Factor w/ 2 levels \"Central\",\"Others\": 2 2 1 1 1 2 2 1 1 1 ...\n",
      " $ hsc_s         : Factor w/ 3 levels \"Arts\",\"Commerce\",..: 2 3 1 3 2 3 2 3 2 2 ...\n",
      " $ degree_t      : Factor w/ 3 levels \"Comm&Mgmt\",\"Others\",..: 3 3 1 3 1 3 1 3 1 1 ...\n",
      " $ workex        : Factor w/ 2 levels \"No\",\"Yes\": 1 2 1 1 1 2 1 2 1 1 ...\n",
      " $ specialisation: Factor w/ 2 levels \"Mkt&Fin\",\"Mkt&HR\": 2 1 1 2 1 1 1 1 1 1 ...\n",
      " $ status        : Factor w/ 2 levels \"Not Placed\",\"Placed\": 2 2 2 1 2 1 1 2 2 1 ...\n",
      " [1] \"ssc_p\"          \"hsc_p\"          \"degree_p\"       \"etest_p\"       \n",
      " [5] \"mba_p\"          \"gender\"         \"ssc_b\"          \"hsc_b\"         \n",
      " [9] \"hsc_s\"          \"degree_t\"       \"workex\"         \"specialisation\"\n",
      "[13] \"status\"        \n"
     ]
    }
   ],
   "source": [
    "df.new$gender = factor(df$gender)\n",
    "df.new$ssc_b = factor(df$ssc_b)\n",
    "df.new$hsc_b = factor(df$hsc_b)\n",
    "df.new$hsc_s = factor(df$hsc_s)\n",
    "df.new$degree_t = factor(df$degree_t)\n",
    "df.new$workex = factor(df$workex)\n",
    "df.new$specialisation = factor(df$specialisation)\n",
    "df.new$status = factor(df$status)\n",
    "str(df.new)\n",
    "print(names(df.new))"
   ]
  },
  {
   "cell_type": "markdown",
   "metadata": {
    "scrolled": true
   },
   "source": [
    "In the above cell I converted in factors the values to run the glm model and the new dataset df.new is the one that I will use in the glm regression."
   ]
  },
  {
   "cell_type": "code",
   "execution_count": 9,
   "metadata": {
    "scrolled": false
   },
   "outputs": [
    {
     "data": {
      "text/plain": [
       "\n",
       "Call:\n",
       "glm(formula = status ~ ., family = binomial(link = \"logit\"), \n",
       "    data = df.new)\n",
       "\n",
       "Deviance Residuals: \n",
       "     Min        1Q    Median        3Q       Max  \n",
       "-2.30074  -0.14447   0.07164   0.31692   2.32685  \n",
       "\n",
       "Coefficients:\n",
       "                      Estimate Std. Error z value Pr(>|z|)    \n",
       "(Intercept)          -18.37171    5.32356  -3.451 0.000558 ***\n",
       "ssc_p                  0.22891    0.04682   4.889 1.01e-06 ***\n",
       "hsc_p                  0.10721    0.03778   2.838 0.004541 ** \n",
       "degree_p               0.18577    0.05558   3.343 0.000830 ***\n",
       "etest_p               -0.01416    0.02266  -0.625 0.532060    \n",
       "mba_p                 -0.21413    0.05852  -3.659 0.000253 ***\n",
       "genderM                1.19433    0.68598   1.741 0.081673 .  \n",
       "ssc_bOthers            0.22767    0.71685   0.318 0.750787    \n",
       "hsc_bOthers            0.33074    0.73509   0.450 0.652757    \n",
       "hsc_sCommerce         -1.49787    1.36117  -1.100 0.271143    \n",
       "hsc_sScience          -0.91121    1.45714  -0.625 0.531746    \n",
       "degree_tOthers        -1.11791    1.54778  -0.722 0.470132    \n",
       "degree_tSci&Tech      -1.72576    0.79258  -2.177 0.029452 *  \n",
       "workexYes              2.08385    0.70839   2.942 0.003264 ** \n",
       "specialisationMkt&HR  -0.26381    0.55610  -0.474 0.635217    \n",
       "---\n",
       "Signif. codes:  0 '***' 0.001 '**' 0.01 '*' 0.05 '.' 0.1 ' ' 1\n",
       "\n",
       "(Dispersion parameter for binomial family taken to be 1)\n",
       "\n",
       "    Null deviance: 266.771  on 214  degrees of freedom\n",
       "Residual deviance:  99.677  on 200  degrees of freedom\n",
       "AIC: 129.68\n",
       "\n",
       "Number of Fisher Scoring iterations: 7\n"
      ]
     },
     "metadata": {},
     "output_type": "display_data"
    }
   ],
   "source": [
    "model1 <- glm(status ~. ,family=binomial(link='logit'),data=df.new)\n",
    "summary(model1)"
   ]
  },
  {
   "cell_type": "markdown",
   "metadata": {},
   "source": [
    "The above is the model that includes all the 13 variables. However I will run the new model coiuntaining only the 5 statistically significant variables and afterwards comment on the results."
   ]
  },
  {
   "cell_type": "code",
   "execution_count": 10,
   "metadata": {},
   "outputs": [
    {
     "name": "stdout",
     "output_type": "stream",
     "text": [
      "[1] \"status\"   \"ssc_p\"    \"hsc_p\"    \"degree_p\" \"mba_p\"    \"workex\"  \n"
     ]
    },
    {
     "data": {
      "text/plain": [
       "\n",
       "Call:\n",
       "glm(formula = status ~ ., family = binomial(link = \"logit\"), \n",
       "    data = df)\n",
       "\n",
       "Deviance Residuals: \n",
       "     Min        1Q    Median        3Q       Max  \n",
       "-2.21824  -0.17166   0.09199   0.38757   2.16438  \n",
       "\n",
       "Coefficients:\n",
       "             Estimate Std. Error z value Pr(>|z|)    \n",
       "(Intercept) -15.48852    3.96106  -3.910 9.22e-05 ***\n",
       "ssc_p         0.19214    0.03761   5.109 3.25e-07 ***\n",
       "hsc_p         0.11948    0.03499   3.415 0.000637 ***\n",
       "degree_p      0.14975    0.04769   3.140 0.001690 ** \n",
       "mba_p        -0.22805    0.04985  -4.575 4.76e-06 ***\n",
       "workexYes     2.26667    0.64652   3.506 0.000455 ***\n",
       "---\n",
       "Signif. codes:  0 '***' 0.001 '**' 0.01 '*' 0.05 '.' 0.1 ' ' 1\n",
       "\n",
       "(Dispersion parameter for binomial family taken to be 1)\n",
       "\n",
       "    Null deviance: 266.77  on 214  degrees of freedom\n",
       "Residual deviance: 112.47  on 209  degrees of freedom\n",
       "AIC: 124.47\n",
       "\n",
       "Number of Fisher Scoring iterations: 7\n"
      ]
     },
     "metadata": {},
     "output_type": "display_data"
    }
   ],
   "source": [
    "df = df.new[, c(\"status\",\"ssc_p\" ,\"hsc_p\", \"degree_p\", \"mba_p\", \"workex\")]\n",
    "print(names(df))\n",
    "model2 <- glm(status ~. ,family=binomial(link='logit'),data=df)\n",
    "summary(model2)"
   ]
  },
  {
   "cell_type": "markdown",
   "metadata": {},
   "source": [
    " # Interpretation of GLM Model\n",
    "\n",
    "From the above, it appears that the main variable that positively influences the placement is the presence of work experience. As we expected having a higher percentage as grade in the different levels of education (secondary, high secondary and in degree) gives a higher probability of placement. On the other hand, surprisingly having a higher grade in MBA gives less probabilty of being placed. \n",
    "Having a work experience is the most influencial variable in a positive way."
   ]
  },
  {
   "cell_type": "code",
   "execution_count": 11,
   "metadata": {},
   "outputs": [
    {
     "data": {
      "text/html": [
       "<dl class=dl-horizontal>\n",
       "\t<dt>(Intercept)</dt>\n",
       "\t\t<dd>1.87681375289502e-07</dd>\n",
       "\t<dt>ssc_p</dt>\n",
       "\t\t<dd>1.21184565920331</dd>\n",
       "\t<dt>hsc_p</dt>\n",
       "\t\t<dd>1.12691491187034</dd>\n",
       "\t<dt>degree_p</dt>\n",
       "\t\t<dd>1.16154436133901</dd>\n",
       "\t<dt>mba_p</dt>\n",
       "\t\t<dd>0.796081056689536</dd>\n",
       "\t<dt>workexYes</dt>\n",
       "\t\t<dd>9.64720165320269</dd>\n",
       "</dl>\n"
      ],
      "text/latex": [
       "\\begin{description*}\n",
       "\\item[(Intercept)] 1.87681375289502e-07\n",
       "\\item[ssc\\textbackslash{}\\_p] 1.21184565920331\n",
       "\\item[hsc\\textbackslash{}\\_p] 1.12691491187034\n",
       "\\item[degree\\textbackslash{}\\_p] 1.16154436133901\n",
       "\\item[mba\\textbackslash{}\\_p] 0.796081056689536\n",
       "\\item[workexYes] 9.64720165320269\n",
       "\\end{description*}\n"
      ],
      "text/markdown": [
       "(Intercept)\n",
       ":   1.87681375289502e-07ssc_p\n",
       ":   1.21184565920331hsc_p\n",
       ":   1.12691491187034degree_p\n",
       ":   1.16154436133901mba_p\n",
       ":   0.796081056689536workexYes\n",
       ":   9.64720165320269\n",
       "\n"
      ],
      "text/plain": [
       " (Intercept)        ssc_p        hsc_p     degree_p        mba_p    workexYes \n",
       "1.876814e-07 1.211846e+00 1.126915e+00 1.161544e+00 7.960811e-01 9.647202e+00 "
      ]
     },
     "metadata": {},
     "output_type": "display_data"
    },
    {
     "name": "stderr",
     "output_type": "stream",
     "text": [
      "Waiting for profiling to be done...\n"
     ]
    },
    {
     "data": {
      "text/html": [
       "<table>\n",
       "<thead><tr><th></th><th scope=col>2.5 %</th><th scope=col>97.5 %</th></tr></thead>\n",
       "<tbody>\n",
       "\t<tr><th scope=row>(Intercept)</th><td>-24.06619380</td><td>-8.3653429  </td></tr>\n",
       "\t<tr><th scope=row>ssc_p</th><td>  0.12460670</td><td> 0.2735808  </td></tr>\n",
       "\t<tr><th scope=row>hsc_p</th><td>  0.05574894</td><td> 0.1939107  </td></tr>\n",
       "\t<tr><th scope=row>degree_p</th><td>  0.05980384</td><td> 0.2485446  </td></tr>\n",
       "\t<tr><th scope=row>mba_p</th><td> -0.33266266</td><td>-0.1355559  </td></tr>\n",
       "\t<tr><th scope=row>workexYes</th><td>  1.08929872</td><td> 3.6510087  </td></tr>\n",
       "</tbody>\n",
       "</table>\n"
      ],
      "text/latex": [
       "\\begin{tabular}{r|ll}\n",
       "  & 2.5 \\% & 97.5 \\%\\\\\n",
       "\\hline\n",
       "\t(Intercept) & -24.06619380 & -8.3653429  \\\\\n",
       "\tssc\\_p &   0.12460670 &  0.2735808  \\\\\n",
       "\thsc\\_p &   0.05574894 &  0.1939107  \\\\\n",
       "\tdegree\\_p &   0.05980384 &  0.2485446  \\\\\n",
       "\tmba\\_p &  -0.33266266 & -0.1355559  \\\\\n",
       "\tworkexYes &   1.08929872 &  3.6510087  \\\\\n",
       "\\end{tabular}\n"
      ],
      "text/markdown": [
       "\n",
       "| <!--/--> | 2.5 % | 97.5 % |\n",
       "|---|---|---|\n",
       "| (Intercept) | -24.06619380 | -8.3653429   |\n",
       "| ssc_p |   0.12460670 |  0.2735808   |\n",
       "| hsc_p |   0.05574894 |  0.1939107   |\n",
       "| degree_p |   0.05980384 |  0.2485446   |\n",
       "| mba_p |  -0.33266266 | -0.1355559   |\n",
       "| workexYes |   1.08929872 |  3.6510087   |\n",
       "\n"
      ],
      "text/plain": [
       "            2.5 %        97.5 %    \n",
       "(Intercept) -24.06619380 -8.3653429\n",
       "ssc_p         0.12460670  0.2735808\n",
       "hsc_p         0.05574894  0.1939107\n",
       "degree_p      0.05980384  0.2485446\n",
       "mba_p        -0.33266266 -0.1355559\n",
       "workexYes     1.08929872  3.6510087"
      ]
     },
     "metadata": {},
     "output_type": "display_data"
    }
   ],
   "source": [
    "exp(model2$coefficients)\n",
    "confint(model2)"
   ]
  },
  {
   "cell_type": "markdown",
   "metadata": {},
   "source": [
    "Getting the exponential of the coefficients help us in th interpretation of the data:\n",
    "    - if we increase by 1 the ssc_p the probability to be placed increases by 1.21\n",
    "    - if we increase by 1 the hsc_p the probability to be placed increases by 1.12\n",
    "    - if we increase by 1 the degree_p the probability to be placed increases by 1.16\n",
    "    - if we increase by 1 the mba_p the probability to be placed increases by 0.79\n",
    "    - if we increase by 1 the workexYes the probability to be placed increases by 9.64\n",
    "  \n"
   ]
  },
  {
   "cell_type": "code",
   "execution_count": 12,
   "metadata": {
    "scrolled": true
   },
   "outputs": [
    {
     "name": "stdout",
     "output_type": "stream",
     "text": [
      "[1] \"comparing the differences between the null model and the model with variables \"\n",
      "[1] \"difference in variance 154.299616364415\"\n",
      "[1] \"difference in variance 5\"\n",
      "[1] \"p-values is  0\"\n"
     ]
    }
   ],
   "source": [
    "print(\"comparing the differences between the null model and the model with variables \")\n",
    "\n",
    "chi.model2 <- model2$null.deviance - model2$deviance\n",
    "print(paste('difference in variance',chi.model2))\n",
    "degfree.model2 <- model2$df.null - model2$df.residual\n",
    "print(paste('difference in variance',degfree.model2))\n",
    "p.value <- ( 1- pchisq(chi.model2,degfree.model2))\n",
    "print(paste('p-values is ',p.value))"
   ]
  },
  {
   "cell_type": "markdown",
   "metadata": {},
   "source": [
    "because the p-values are smaller than 0.01, I can say that the we can reject the hp for chi-sqr that the model2 is not better than the null model"
   ]
  },
  {
   "cell_type": "code",
   "execution_count": 13,
   "metadata": {},
   "outputs": [
    {
     "data": {
      "text/html": [
       "<pre class=language-r><code>function (object, ...) \n",
       "UseMethod(\"anova\")</code></pre>"
      ],
      "text/latex": [
       "\\begin{minted}{r}\n",
       "function (object, ...) \n",
       "UseMethod(\"anova\")\n",
       "\\end{minted}"
      ],
      "text/markdown": [
       "```r\n",
       "function (object, ...) \n",
       "UseMethod(\"anova\")\n",
       "```"
      ],
      "text/plain": [
       "function (object, ...) \n",
       "UseMethod(\"anova\")\n",
       "<bytecode: 0x000000003fac5ea8>\n",
       "<environment: namespace:stats>"
      ]
     },
     "metadata": {},
     "output_type": "display_data"
    },
    {
     "data": {
      "text/html": [
       "<table>\n",
       "<thead><tr><th></th><th scope=col>Df</th><th scope=col>Deviance</th><th scope=col>Resid. Df</th><th scope=col>Resid. Dev</th><th scope=col>Pr(&gt;Chi)</th></tr></thead>\n",
       "<tbody>\n",
       "\t<tr><th scope=row>NULL</th><td>NA          </td><td>       NA   </td><td>214         </td><td>266.7707    </td><td>          NA</td></tr>\n",
       "\t<tr><th scope=row>ssc_p</th><td> 1          </td><td>96.496703   </td><td>213         </td><td>170.2740    </td><td>8.939258e-23</td></tr>\n",
       "\t<tr><th scope=row>hsc_p</th><td> 1          </td><td>15.953665   </td><td>212         </td><td>154.3203    </td><td>6.491199e-05</td></tr>\n",
       "\t<tr><th scope=row>degree_p</th><td> 1          </td><td> 5.162563   </td><td>211         </td><td>149.1578    </td><td>2.307881e-02</td></tr>\n",
       "\t<tr><th scope=row>mba_p</th><td> 1          </td><td>20.748975   </td><td>210         </td><td>128.4088    </td><td>5.235959e-06</td></tr>\n",
       "\t<tr><th scope=row>workex</th><td> 1          </td><td>15.937710   </td><td>209         </td><td>112.4711    </td><td>6.546142e-05</td></tr>\n",
       "</tbody>\n",
       "</table>\n"
      ],
      "text/latex": [
       "\\begin{tabular}{r|lllll}\n",
       "  & Df & Deviance & Resid. Df & Resid. Dev & Pr(>Chi)\\\\\n",
       "\\hline\n",
       "\tNULL & NA           &        NA    & 214          & 266.7707     &           NA\\\\\n",
       "\tssc\\_p &  1           & 96.496703    & 213          & 170.2740     & 8.939258e-23\\\\\n",
       "\thsc\\_p &  1           & 15.953665    & 212          & 154.3203     & 6.491199e-05\\\\\n",
       "\tdegree\\_p &  1           &  5.162563    & 211          & 149.1578     & 2.307881e-02\\\\\n",
       "\tmba\\_p &  1           & 20.748975    & 210          & 128.4088     & 5.235959e-06\\\\\n",
       "\tworkex &  1           & 15.937710    & 209          & 112.4711     & 6.546142e-05\\\\\n",
       "\\end{tabular}\n"
      ],
      "text/markdown": [
       "\n",
       "| <!--/--> | Df | Deviance | Resid. Df | Resid. Dev | Pr(>Chi) |\n",
       "|---|---|---|---|---|---|\n",
       "| NULL | NA           |        NA    | 214          | 266.7707     |           NA |\n",
       "| ssc_p |  1           | 96.496703    | 213          | 170.2740     | 8.939258e-23 |\n",
       "| hsc_p |  1           | 15.953665    | 212          | 154.3203     | 6.491199e-05 |\n",
       "| degree_p |  1           |  5.162563    | 211          | 149.1578     | 2.307881e-02 |\n",
       "| mba_p |  1           | 20.748975    | 210          | 128.4088     | 5.235959e-06 |\n",
       "| workex |  1           | 15.937710    | 209          | 112.4711     | 6.546142e-05 |\n",
       "\n"
      ],
      "text/plain": [
       "         Df Deviance  Resid. Df Resid. Dev Pr(>Chi)    \n",
       "NULL     NA        NA 214       266.7707             NA\n",
       "ssc_p     1 96.496703 213       170.2740   8.939258e-23\n",
       "hsc_p     1 15.953665 212       154.3203   6.491199e-05\n",
       "degree_p  1  5.162563 211       149.1578   2.307881e-02\n",
       "mba_p     1 20.748975 210       128.4088   5.235959e-06\n",
       "workex    1 15.937710 209       112.4711   6.546142e-05"
      ]
     },
     "metadata": {},
     "output_type": "display_data"
    }
   ],
   "source": [
    "anova\n",
    "anova(model2, test=\"Chisq\")"
   ]
  },
  {
   "cell_type": "markdown",
   "metadata": {},
   "source": [
    "The difference between the null deviance and the residual deviance shows how our model is doing against the null model (a model with only the intercept). The wider this gap, the better. Analyzing the table we can see the drop in deviance when adding each variable one at a time."
   ]
  },
  {
   "cell_type": "markdown",
   "metadata": {},
   "source": [
    "# Assessing the predictive ability of the model"
   ]
  },
  {
   "cell_type": "code",
   "execution_count": 14,
   "metadata": {},
   "outputs": [],
   "source": [
    "df$status <- ifelse(df$status == 'Placed',1,0)\n",
    "train <- df[1:170,]\n",
    "test <- df[170:215,]"
   ]
  },
  {
   "cell_type": "markdown",
   "metadata": {},
   "source": [
    "I split the dataset in two: training (80% of the data) and in test (20% of the data)"
   ]
  },
  {
   "cell_type": "code",
   "execution_count": 15,
   "metadata": {},
   "outputs": [
    {
     "name": "stdout",
     "output_type": "stream",
     "text": [
      "[1] \"Accuracy 0.53953488372093\"\n"
     ]
    }
   ],
   "source": [
    "modelTrain <- glm(status ~. ,family=binomial(link='logit'),data=train)\n",
    "fitted.results <- predict(modelTrain,newdata = test, type='response')\n",
    "fitted.results <- ifelse(fitted.results > 0.5,1,0)\n",
    "misClasificError <- mean(fitted.results != df$status)\n",
    "print(paste('Accuracy',1-misClasificError))"
   ]
  },
  {
   "cell_type": "markdown",
   "metadata": {},
   "source": [
    "The accuracy in prediction is not that good."
   ]
  },
  {
   "cell_type": "code",
   "execution_count": 16,
   "metadata": {},
   "outputs": [
    {
     "data": {
      "image/png": "[encoded data removed]",
      "text/plain": [
       "plot without title"
      ]
     },
     "metadata": {},
     "output_type": "display_data"
    }
   ],
   "source": [
    "p <- predict(modelTrain,newdata = test, type='response')\n",
    "pr <- prediction(p, test$status)\n",
    "prf <- performance(pr, measure = \"tpr\", x.measure = \"fpr\")\n",
    "plot(prf,colorize=TRUE)\n",
    "abline(0,1,lwd = 2, lty = 2)"
   ]
  },
  {
   "cell_type": "code",
   "execution_count": 17,
   "metadata": {},
   "outputs": [
    {
     "data": {
      "text/html": [
       "0.946428571428571"
      ],
      "text/latex": [
       "0.946428571428571"
      ],
      "text/markdown": [
       "0.946428571428571"
      ],
      "text/plain": [
       "[1] 0.9464286"
      ]
     },
     "metadata": {},
     "output_type": "display_data"
    }
   ],
   "source": [
    "auc <- performance(pr, measure = \"auc\")\n",
    "auc <- auc@y.values[[1]]\n",
    "auc"
   ]
  },
  {
   "cell_type": "markdown",
   "metadata": {},
   "source": [
    "The AUC (area under the curve) of the ROC curve is computed to be 0.95. It is said to be about 95% good at identifying positive value and it is considered a acceptable/fair classifier model."
   ]
  }
 ],
 "metadata": {
  "kernelspec": {
   "display_name": "R",
   "language": "R",
   "name": "ir"
  },
  "language_info": {
   "codemirror_mode": "r",
   "file_extension": ".r",
   "mimetype": "text/x-r-source",
   "name": "R",
   "pygments_lexer": "r",
   "version": "3.6.1"
  }
 },
 "nbformat": 4,
 "nbformat_minor": 4
}
